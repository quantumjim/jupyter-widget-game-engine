{
 "cells": [
  {
   "cell_type": "markdown",
   "metadata": {},
   "source": [
    "We can make simple games with Jupyter widgets. Whether we *should* is another matter entirely. But we can, so let's do it.\n",
    "\n",
    "Just import some stuff I wrote. Don't look at it. It is ~~hacky nonsense~~ such a masterpeice of coding that it will blow your minds."
   ]
  },
  {
   "cell_type": "code",
   "execution_count": 1,
   "metadata": {
    "scrolled": false
   },
   "outputs": [],
   "source": [
    "from jupyter_widget_engine import jupyter_widget_engine"
   ]
  },
  {
   "cell_type": "markdown",
   "metadata": {},
   "source": [
    "This gives us the ability to make games for an 8x8 pixel screen, controlled by a D-pad and two buttons. There is also a 'continue' button, which needs to be pressed to move act on the given inputs and move on to the next frame.\n",
    "\n",
    "To make a game, you have to define the function that is called when this button is pressed. Here is a simple example."
   ]
  },
  {
   "cell_type": "code",
   "execution_count": 2,
   "metadata": {},
   "outputs": [],
   "source": [
    "from random import choice\n",
    "\n",
    "def next_frame (self):\n",
    "    \n",
    "    text = self.parameters['text']\n",
    "\n",
    "    if self.controller['B'].value:\n",
    "        style = choice(['success', 'info', 'warning', 'danger', ''])\n",
    "        self.screen[0,0].button_style = style\n",
    "            \n",
    "    if self.controller['A'].value:\n",
    "        if self.screen[0,0].description=='':\n",
    "            self.screen[0,0].description = text[0]\n",
    "        elif self.screen[0,0].description==text[0]:\n",
    "            self.screen[0,0].description = text[1]\n",
    "        else:\n",
    "            self.screen[0,0].description = ''\n",
    "            \n",
    "    if self.controller['up'].value:\n",
    "        self.screen[0,0].value = not self.screen[0,0].value"
   ]
  },
  {
   "cell_type": "markdown",
   "metadata": {},
   "source": [
    "Similarly, you must define a function that sets up the initial screen."
   ]
  },
  {
   "cell_type": "code",
   "execution_count": 3,
   "metadata": {},
   "outputs": [],
   "source": [
    "def start(self):\n",
    "    \n",
    "    self.screen[3,3].description = ':)'"
   ]
  },
  {
   "cell_type": "markdown",
   "metadata": {},
   "source": [
    "These functions address the pixels using `self.screen`, and accesses whether the controller buttons have been pressed using `self.controller`. It also uses `self.parameters`, which are you supply yourself.\n",
    "\n",
    "They pixels have five possible colours which can be set using the `button_style` attribute to the following values\n",
    "\n",
    "* For grey use `''`.\n",
    "* For green use `'success'`.\n",
    "* For blue use `'info'`.\n",
    "* For orange use `'warning'`.\n",
    "* For red use `'danger'`.\n",
    "\n",
    "They also have light and dark states, which can be set using the `value` attribute. For dark use `True` and for light use `False`).\n",
    "\n",
    "You can also set text to the pixels using the `description` attribute.\n",
    "\n",
    "The parameters used in these functions must all be contained in the `parameters` dictionary. Here's what is used in the `next_frame` function above."
   ]
  },
  {
   "cell_type": "code",
   "execution_count": 4,
   "metadata": {},
   "outputs": [],
   "source": [
    "text = ['0','1']\n",
    "parameters = {'text':text}"
   ]
  },
  {
   "cell_type": "markdown",
   "metadata": {},
   "source": [
    "The game is started by initiating the `jupyter_widget_engine` object with this function and these parameters. You can also choose a size other than the default 8x8 grid using the kwarg `L."
   ]
  },
  {
   "cell_type": "code",
   "execution_count": 5,
   "metadata": {
    "scrolled": false
   },
   "outputs": [
    {
     "data": {
      "application/vnd.jupyter.widget-view+json": {
       "model_id": "0eb2e5903aa4450ea5146bd5c407fae1",
       "version_major": 2,
       "version_minor": 0
      },
      "text/plain": [
       "VBox(children=(HBox(children=(ToggleButton(value=False, disabled=True, layout=Layout(height='25px', width='25p…"
      ]
     },
     "metadata": {},
     "output_type": "display_data"
    }
   ],
   "source": [
    "engine = jupyter_widget_engine(start,next_frame,parameters,L=16)"
   ]
  },
  {
   "cell_type": "code",
   "execution_count": null,
   "metadata": {},
   "outputs": [],
   "source": []
  }
 ],
 "metadata": {
  "kernelspec": {
   "display_name": "Python 3",
   "language": "python",
   "name": "python3"
  },
  "language_info": {
   "codemirror_mode": {
    "name": "ipython",
    "version": 3
   },
   "file_extension": ".py",
   "mimetype": "text/x-python",
   "name": "python",
   "nbconvert_exporter": "python",
   "pygments_lexer": "ipython3",
   "version": "3.7.3"
  }
 },
 "nbformat": 4,
 "nbformat_minor": 4
}

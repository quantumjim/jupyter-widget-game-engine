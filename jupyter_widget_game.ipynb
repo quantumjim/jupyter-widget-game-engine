{
 "cells": [
  {
   "cell_type": "markdown",
   "metadata": {},
   "source": [
    "# A game engine for Jupyter widgets\n",
    "\n",
    "We can make simple games with Jupyter widgets. Whether we *should* is another matter entirely. But we can, so let's do it.\n",
    "\n",
    "## Getting started\n",
    "\n",
    "Just import some stuff I wrote. Don't look at it. It is ~~hacky nonsense~~ such a masterpeice of coding that it will blow your minds."
   ]
  },
  {
   "cell_type": "code",
   "execution_count": null,
   "metadata": {
    "scrolled": false
   },
   "outputs": [],
   "source": [
    "from jupyter_widget_engine import jupyter_widget_engine"
   ]
  },
  {
   "cell_type": "markdown",
   "metadata": {},
   "source": [
    "For this to work, you'll need the file [jupyter_widget_engine.py](jupyter_widget_engine.py) to be located somewhere importable. Having it sit in the same folder as your notebook is the easiest way. If you are using the IBM Quantum Experience, using the 'Import' button on [this page](https://quantum-computing.ibm.com/jupyter) to upload the file.\n",
    "\n",
    "## The game engine\n",
    "\n",
    "The game engine gives us the ability to make games for a low-pixel screen (8x8 by default), controlled by a D-pad and five buttons. Note that the screen will only update when a button is pressed.\n",
    "\n",
    "The game engine is all based around a class. You can call this whaetever you like. In the following we will call it `engine`.\n",
    "\n",
    "### The screen\n",
    "\n",
    "The pixels can be addressed in the functions using `engine.screen`. The pixel at position (x,y) is adressed as `engine.screen[x,y]`. The Jupyter widget used for each pixel is a deactived (i.e. unpressable) button object, and can be manipulated accordingly. The two attributes that you are recommended to use are `button_style`, `value` and `description`. The `button_style` attribute sets the colour by assigning it one of the following strings.\n",
    "\n",
    "* For grey use `''`.\n",
    "* For green use `'success'`.\n",
    "* For blue use `'info'`.\n",
    "* For orange use `'warning'`.\n",
    "* For red use `'danger'`.\n",
    "\n",
    "The `value` attribute allows you to set light and dark states. For dark use `True` and for light use `False`.\n",
    "\n",
    "The `description` attribute allows you to set text. Note that most pixels won't contain more than a few characters. A larger piece of text can be written on the long pixel at the bottom of the screen, which is accessed with `engine.screen['text']`\n",
    "\n",
    "### The controller\n",
    "\n",
    "The controller is accessed using `engine.controller`. Its buttons are addressed using the keys `'down'`, `'up'`, `'left'`, `'right'`, `'A'`, `'B'`, `'X'`, `'Y'` and `'next'`. Each is a Jupyter widget button object. Pressing any of these buttons will cause the `next_frame` function to run. Use the `value` attribute of each button to determine whether the button has been pressed (`True`) or not (`False`).\n",
    "\n",
    "\n",
    "### The game loop\n",
    "\n",
    "Games are made by defining two functions, `start` and `next_frame`. The `start` function runs when the game begins, and `next_frame` runs every time a button is pressed to move the game along. Both should have a single argument: the class `engine`. All parameters required for the game should be defined as attributes to the `engine` class.\n",
    "\n",
    "\n",
    "### Putting it all together\n",
    "\n",
    "The game is started by initiating the `jupyter_widget_engine` object with the `start` and `next_frame` functions. You can also choose a size other than the default 8x8 grid using the kwarg `L`.\n",
    "\n",
    "```\n",
    "jupyter_widget_engine(start,next_frame,L=8)\n",
    "```\n",
    "\n",
    "Note that the grid size can be accessed in the `start` and `next_frame` functions as `engine.L`.\n",
    "\n",
    "## A simple example"
   ]
  },
  {
   "cell_type": "code",
   "execution_count": null,
   "metadata": {
    "scrolled": false
   },
   "outputs": [],
   "source": [
    "def start(engine):\n",
    "    \n",
    "    # set text under screen\n",
    "    engine.screen['text'].description = 'Press any button to begin...'\n",
    "    \n",
    "    # set some parameters\n",
    "    engine.started = False\n",
    "    engine.pos = (8,8)\n",
    "    engine.f = 0\n",
    "\n",
    "def next_frame (engine):\n",
    "    \n",
    "    if not engine.started:\n",
    "        # record that the game has started\n",
    "        engine.started = True\n",
    "        # change text under screen\n",
    "        engine.screen['text'].description = 'The game is afoot!'\n",
    "        # set initial player position\n",
    "        (x,y) = engine.pos\n",
    "        engine.screen[x,y].button_style = 'info'\n",
    "    else:\n",
    "    \n",
    "        # display frame number in top left corner\n",
    "        engine.f += 1\n",
    "        engine.screen[0,0].description = str(engine.f)\n",
    "\n",
    "        # get current position\n",
    "        (x,y) = engine.pos\n",
    "        \n",
    "        # removed player from current position\n",
    "        engine.screen[x,y].button_style = ''\n",
    "\n",
    "        # update based on controller input\n",
    "        if engine.controller['up'].value:\n",
    "            y -= 1\n",
    "        if engine.controller['down'].value:\n",
    "            y += 1\n",
    "        if engine.controller['left'].value:\n",
    "            x -= 1\n",
    "        if engine.controller['right'].value:\n",
    "            x += 1\n",
    "\n",
    "        # put player at new position\n",
    "        engine.screen[x,y].button_style = 'info'\n",
    "        \n",
    "        # store new position\n",
    "        engine.pos = (x,y)\n",
    "        \n",
    "    \n",
    "engine = jupyter_widget_engine(start,next_frame,L=16)"
   ]
  }
 ],
 "metadata": {
  "kernelspec": {
   "display_name": "Python 3",
   "language": "python",
   "name": "python3"
  },
  "language_info": {
   "codemirror_mode": {
    "name": "ipython",
    "version": 3
   },
   "file_extension": ".py",
   "mimetype": "text/x-python",
   "name": "python",
   "nbconvert_exporter": "python",
   "pygments_lexer": "ipython3",
   "version": "3.7.6"
  }
 },
 "nbformat": 4,
 "nbformat_minor": 4
}

{
 "cells": [
  {
   "cell_type": "markdown",
   "metadata": {},
   "source": [
    "# Your first quantum game"
   ]
  },
  {
   "cell_type": "markdown",
   "metadata": {},
   "source": [
    "We are going to make a game, so we'll need a game engine. We'll use a simple one made out of Jupyter notebooks."
   ]
  },
  {
   "cell_type": "code",
   "execution_count": null,
   "metadata": {},
   "outputs": [],
   "source": [
    "from jupyter_widget_engine import JupyterWidgetEngine"
   ]
  },
  {
   "cell_type": "markdown",
   "metadata": {},
   "source": [
    "A minimal example of using this game engine is to simply set all the pixels to a certan colour."
   ]
  },
  {
   "cell_type": "code",
   "execution_count": null,
   "metadata": {},
   "outputs": [],
   "source": [
    "# set screen size\n",
    "L = 8\n",
    "\n",
    "# function called when setting up\n",
    "def start(engine):\n",
    "    # just move on to the first frame\n",
    "    next_frame(engine)\n",
    "\n",
    "# this is the function that does everything\n",
    "def next_frame (engine):\n",
    "    \n",
    "    # remove initial text\n",
    "    if engine.controller['A'].value:\n",
    "        engine.screen['text'].set_text('')\n",
    "    \n",
    "    # set all pixels to green\n",
    "    for x in range(engine.L):\n",
    "        for y in range(engine.L):\n",
    "            engine.screen[x,y].set_color('green')\n",
    "    \n",
    "# run the game\n",
    "engine = JupyterWidgetEngine(start,next_frame,L=L)"
   ]
  },
  {
   "cell_type": "markdown",
   "metadata": {},
   "source": [
    "Now let's set one specific pixel to a different colour."
   ]
  },
  {
   "cell_type": "code",
   "execution_count": null,
   "metadata": {
    "scrolled": false
   },
   "outputs": [],
   "source": [
    "# function called when setting up\n",
    "def start(engine):\n",
    "    \n",
    "    # set a parameter to keep track of the player pixel\n",
    "    engine.X = 1\n",
    "    engine.Y = 2\n",
    "    \n",
    "    # then move on to the first frame\n",
    "    next_frame(engine)\n",
    "\n",
    "# this is the function that does everything\n",
    "def next_frame (engine):\n",
    "    \n",
    "    # set all pixels to green\n",
    "    for x in range(engine.L):\n",
    "        for y in range(engine.L):\n",
    "            engine.screen[x,y].set_color('green')\n",
    "            \n",
    "    # draw the player pixel\n",
    "    engine.screen[engine.X,engine.Y].set_color('red')\n",
    "    \n",
    "# run the game\n",
    "engine = JupyterWidgetEngine(start,next_frame,L=L)"
   ]
  },
  {
   "cell_type": "markdown",
   "metadata": {},
   "source": [
    "We'll move this around using the arrow buttons."
   ]
  },
  {
   "cell_type": "code",
   "execution_count": null,
   "metadata": {
    "scrolled": false
   },
   "outputs": [],
   "source": [
    "# this is the function that does everything\n",
    "def next_frame (engine):\n",
    "    \n",
    "    # remove initial text\n",
    "    if engine.controller['A'].value:\n",
    "        engine.screen['text'].set_text('')\n",
    "    \n",
    "    # change player position\n",
    "    if engine.controller['up'].value:\n",
    "        engine.Y -= 1\n",
    "    if engine.controller['down'].value:\n",
    "        engine.Y += 1\n",
    "    if engine.controller['right'].value:\n",
    "        engine.X += 1\n",
    "    if engine.controller['left'].value:\n",
    "        engine.X -= 1\n",
    "    \n",
    "    # set all pixels to green\n",
    "    for x in range(engine.L):\n",
    "        for y in range(engine.L):\n",
    "            engine.screen[x,y].set_color('green')\n",
    "            \n",
    "    # draw the player pixel\n",
    "    engine.screen[engine.X,engine.Y].set_color('red')\n",
    "    \n",
    "# run the game\n",
    "engine = JupyterWidgetEngine(start,next_frame,L=L)"
   ]
  },
  {
   "cell_type": "markdown",
   "metadata": {},
   "source": [
    "Walking off the edge of the screen results in an error. We can fix this."
   ]
  },
  {
   "cell_type": "code",
   "execution_count": null,
   "metadata": {
    "scrolled": false
   },
   "outputs": [],
   "source": [
    "# this is the function that does everything\n",
    "def next_frame (engine):\n",
    "    \n",
    "    # remove initial text\n",
    "    if engine.controller['A'].value:\n",
    "        engine.screen['text'].set_text('')\n",
    "    \n",
    "    # change player position\n",
    "    if engine.controller['up'].value:\n",
    "        engine.Y -= 1\n",
    "    if engine.controller['down'].value:\n",
    "        engine.Y += 1\n",
    "    if engine.controller['right'].value:\n",
    "        engine.X += 1\n",
    "    if engine.controller['left'].value:\n",
    "        engine.X -= 1\n",
    "    \n",
    "    # set all pixels to green\n",
    "    for x in range(engine.L):\n",
    "        for y in range(engine.L):\n",
    "            engine.screen[x,y].set_color('green')\n",
    "            \n",
    "    # draw the player pixel\n",
    "    Xs = engine.X%engine.L\n",
    "    Ys = engine.Y%engine.L\n",
    "    engine.screen[Xs,Ys].set_color('red')\n",
    "    \n",
    "# run the game\n",
    "engine = JupyterWidgetEngine(start,next_frame,L=L)"
   ]
  },
  {
   "cell_type": "markdown",
   "metadata": {},
   "source": [
    "Now let's move towards giving our pixel a more exciting world to explore. We'll use a function to decide what colour each point should be. We'll start by not changing very much."
   ]
  },
  {
   "cell_type": "code",
   "execution_count": null,
   "metadata": {},
   "outputs": [],
   "source": [
    "def get_color(X,Y):\n",
    "    return 'green'\n",
    "\n",
    "# this is the function that does everything\n",
    "def next_frame (engine):\n",
    "    \n",
    "    # remove initial text\n",
    "    if engine.controller['A'].value:\n",
    "        engine.screen['text'].set_text('')\n",
    "    \n",
    "    # change player position\n",
    "    if engine.controller['up'].value:\n",
    "        engine.Y -= 1\n",
    "    if engine.controller['down'].value:\n",
    "        engine.Y += 1\n",
    "    if engine.controller['right'].value:\n",
    "        engine.X += 1\n",
    "    if engine.controller['left'].value:\n",
    "        engine.X -= 1\n",
    "    \n",
    "    # set all pixels to green\n",
    "    for x in range(engine.L):\n",
    "        for y in range(engine.L):\n",
    "            # get the 'world' coordinates X,Y from the onscreen coordinates x,y\n",
    "            X = int(engine.X/engine.L)*L+x\n",
    "            Y = int(engine.Y/L)*engine.L+y\n",
    "            # set it to whatever colour it should be\n",
    "            engine.screen[x,y].set_color(get_color(X,Y))\n",
    "            \n",
    "    # draw the player pixel\n",
    "    Xs = engine.X%engine.L\n",
    "    Ys = engine.Y%engine.L\n",
    "    engine.screen[Xs,Ys].set_color('red')\n",
    "    \n",
    "# run the game\n",
    "engine = JupyterWidgetEngine(start,next_frame,L=L)"
   ]
  },
  {
   "cell_type": "markdown",
   "metadata": {},
   "source": [
    "Now let's change `get_color` to create a beach."
   ]
  },
  {
   "cell_type": "code",
   "execution_count": null,
   "metadata": {
    "scrolled": false
   },
   "outputs": [],
   "source": [
    "def get_color(X,Y):\n",
    "    if X<12:\n",
    "        color = 'green'\n",
    "    else:\n",
    "        color = 'orange'\n",
    "    return color\n",
    "    \n",
    "# run the game\n",
    "engine = JupyterWidgetEngine(start,next_frame,L=L)"
   ]
  },
  {
   "cell_type": "markdown",
   "metadata": {},
   "source": [
    "We'll now put a single qubit circuit inside this terrain generator, so that we can experiment with single qubit gates by making terrain. For that we'll need some Qiskit tools."
   ]
  },
  {
   "cell_type": "code",
   "execution_count": null,
   "metadata": {},
   "outputs": [],
   "source": [
    "from qiskit import QuantumCircuit\n",
    "from qiskit.quantum_info import Statevector"
   ]
  },
  {
   "cell_type": "markdown",
   "metadata": {},
   "source": [
    "First, let's see what a circuit looks like. Here's one with just a `ry` gate for a given angle of rotation."
   ]
  },
  {
   "cell_type": "code",
   "execution_count": null,
   "metadata": {},
   "outputs": [],
   "source": [
    "from qiskit import QuantumCircuit\n",
    "from qiskit.quantum_info import Statevector\n",
    "\n",
    "theta = 3.14159/2\n",
    "\n",
    "qc = QuantumCircuit(1)\n",
    "qc.ry(theta,0)\n",
    "\n",
    "state = Statevector.from_instruction(qc)\n",
    "probs = state.probabilities_dict()\n",
    "\n",
    "print(probs)"
   ]
  },
  {
   "cell_type": "markdown",
   "metadata": {},
   "source": [
    "Let's use the probaility of the output '1' as a height, and set the colour accordingly."
   ]
  },
  {
   "cell_type": "code",
   "execution_count": null,
   "metadata": {},
   "outputs": [],
   "source": [
    "def get_color(X,Y):\n",
    "    \n",
    "    # set an angle for ry based on the coordinate\n",
    "    theta = (X+Y)*(3.14159/16)\n",
    "    \n",
    "    # create and simulate the circuit\n",
    "    qc = QuantumCircuit(1)\n",
    "    qc.ry(theta,0)\n",
    "    state = Statevector.from_instruction(qc)\n",
    "    probs = state.probabilities_dict()\n",
    "    \n",
    "    # get the prob of '1'\n",
    "    if '1' in probs:\n",
    "        height = probs['1']\n",
    "    else:\n",
    "        height = 0\n",
    "    \n",
    "    # set colour accordingly\n",
    "    if height<0.1: # sea/river\n",
    "        color = 'blue'\n",
    "    elif height<0.3: # beach\n",
    "        color = 'orange'\n",
    "    elif height<0.9: # grass\n",
    "        color = 'green'\n",
    "    else: # mountain\n",
    "        color = 'grey'\n",
    "        \n",
    "    return color\n",
    "    \n",
    "# run the game\n",
    "engine = JupyterWidgetEngine(start,next_frame,L=16)"
   ]
  },
  {
   "cell_type": "markdown",
   "metadata": {},
   "source": [
    "Now experiment by making your own circuits to generate more interesting terrain. You might find [this](https://javafxpert.github.io/grok-bloch/) to be a handy tool to determine what different gates will do."
   ]
  },
  {
   "cell_type": "code",
   "execution_count": null,
   "metadata": {},
   "outputs": [],
   "source": []
  }
 ],
 "metadata": {
  "kernelspec": {
   "display_name": "Python 3",
   "language": "python",
   "name": "python3"
  },
  "language_info": {
   "codemirror_mode": {
    "name": "ipython",
    "version": 3
   },
   "file_extension": ".py",
   "mimetype": "text/x-python",
   "name": "python",
   "nbconvert_exporter": "python",
   "pygments_lexer": "ipython3",
   "version": "3.8.5"
  }
 },
 "nbformat": 4,
 "nbformat_minor": 4
}

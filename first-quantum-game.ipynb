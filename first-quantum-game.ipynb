{
 "cells": [
  {
   "cell_type": "markdown",
   "metadata": {},
   "source": [
    "# Your first quantum game"
   ]
  },
  {
   "cell_type": "markdown",
   "metadata": {},
   "source": [
    "We are going to make a game, so we'll need a game engine. We'll use a simple one made out of Jupyter notebooks."
   ]
  },
  {
   "cell_type": "code",
   "execution_count": null,
   "metadata": {},
   "outputs": [],
   "source": [
    "from qiskit_textbook.games.jupyter_widget_engine import JupyterWidgetEngine"
   ]
  },
  {
   "cell_type": "markdown",
   "metadata": {},
   "source": [
    "If the command above doesn't work, run the following cell for a hacky workaround."
   ]
  },
  {
   "cell_type": "code",
   "execution_count": null,
   "metadata": {},
   "outputs": [],
   "source": [
    "exec(\"\\nfrom ipywidgets import widgets \\nfrom ipywidgets import Layout, HBox, VBox\\nfrom IPython.display import display\\n\\nclass Pixel():\\n    \\n    def __init__(self, layout):\\n        self._button = widgets.ToggleButton(description='',button_style='',layout=layout,disabled=True)\\n        \\n    def set_color(self,color):\\n        if color in ['grey','gray']:\\n            self._button.button_style = ''\\n        elif color=='green':\\n            self._button.button_style = 'success'\\n        elif color=='blue':\\n            self._button.button_style = 'info'\\n        elif color=='orange':\\n            self._button.button_style = 'warning'\\n        elif color=='red':\\n            self._button.button_style = 'danger'\\n            \\n    def set_brightness(self,bright):\\n        self._button.value = not bright\\n        \\n    def set_text(self,text):\\n        self._button.description = text\\n        \\n\\nclass JupyterWidgetEngine():\\n    \\n    def __init__(self,start,next_frame,L=8):\\n        \\n        self.next_frame = next_frame\\n        self.L = L\\n        \\n        width = int(50*8/L)\\n        wide = str(7*width+24)+'px'\\n        wider = str(L*width+(L-1)*4)+'px'\\n        width = str(width)+'px'\\n        height = width\\n        width = str(int(50*8/L))+'px'\\n\\n        layout = Layout(width=width, height=height)\\n\\n        screen = {}\\n        for x in range(L):\\n            for y in range(L):\\n                screen[x,y] = Pixel(layout)\\n        screen['text'] = Pixel(Layout(width=wider, height=height))\\n\\n        controller = {}\\n        controller['blank'] = widgets.ToggleButton(description='',button_style='',layout=layout)\\n        controller['up'] = widgets.ToggleButton(description='▲',button_style='',layout=layout)\\n        controller['down'] = widgets.ToggleButton(description='▼',button_style='',layout=layout)\\n        controller['left'] = widgets.ToggleButton(description='◀︎',button_style='',layout=layout)\\n        controller['right'] = widgets.ToggleButton(description='►',button_style='',layout=layout)\\n        controller['A'] = widgets.ToggleButton(description='A',button_style='',layout=layout)\\n        controller['B'] = widgets.ToggleButton(description='B',button_style='',layout=layout)\\n        controller['X'] = widgets.ToggleButton(description='X',button_style='',layout=layout)\\n        controller['Y'] = widgets.ToggleButton(description='Y',button_style='',layout=layout)\\n        controller['next'] = widgets.ToggleButton(description='Next',button_style='',layout=Layout(width=wide, height=height))\\n\\n        [b,u,d,l,r,A,B,X,Y,c] = [controller['blank'],\\n                             controller['up'],\\n                             controller['down'],\\n                             controller['left'],\\n                             controller['right'],\\n                             controller['A'],\\n                             controller['B'],\\n                             controller['X'],\\n                             controller['Y'],\\n                             controller['next']]\\n\\n\\n        interface = []\\n        interface.append( widgets.HBox([screen[x,0]._button for x in range(L)]+[b,u,b,b,b,X,b]) )\\n        interface.append( widgets.HBox([screen[x,1]._button for x in range(L)]+[l,b,r,b,Y,b,A]) )\\n        interface.append( widgets.HBox([screen[x,2]._button for x in range(L)]+[b,d,b,b,b,B,b]) )\\n        interface.append( widgets.HBox([screen[x,3]._button for x in range(L)]+[c]) )\\n        for y in range(4,L):\\n            interface.append( widgets.HBox([screen[x,y]._button for x in range(L)]) )\\n        interface.append( screen['text']._button )\\n            \\n        self.screen = screen\\n        self.controller = controller\\n            \\n        start(self)\\n            \\n        display(widgets.VBox(interface))\\n        \\n        b.observe(self.given_blank)\\n        \\n        for button in self.controller:\\n            if button!='blank':\\n                self.controller[button].observe(self.given_button)\\n        \\n        \\n\\n    def given_blank(self,obs_b):\\n        if self.controller['blank'].value:\\n            self.controller['blank'].value = False\\n    \\n\\n\\n    def given_button(self,obs_n):\\n\\n        for button in self.controller:\\n            if self.controller[button].value is True:\\n                self.next_frame(self)\\n\\n        for button in self.controller.values():\\n            button.value = False\\n            \\n\")"
   ]
  },
  {
   "cell_type": "markdown",
   "metadata": {},
   "source": [
    "A minimal example of using this game engine is to simply set all the pixels to a certan colour."
   ]
  },
  {
   "cell_type": "code",
   "execution_count": null,
   "metadata": {},
   "outputs": [],
   "source": [
    "# function called when setting up\n",
    "def start(engine):\n",
    "    # just move on to the first frame\n",
    "    next_frame(engine)\n",
    "\n",
    "# this is the function that does everything\n",
    "def next_frame (engine):\n",
    "    \n",
    "    # set all pixels to green\n",
    "    for x in range(engine.L):\n",
    "        for y in range(engine.L):\n",
    "            engine.screen[x,y].set_color('green')\n",
    "    \n",
    "# run the game for an 8x8 screen\n",
    "engine = JupyterWidgetEngine(start,next_frame,L=8)"
   ]
  },
  {
   "cell_type": "markdown",
   "metadata": {},
   "source": [
    "Now let's set one specific pixel to a different colour."
   ]
  },
  {
   "cell_type": "code",
   "execution_count": null,
   "metadata": {
    "scrolled": false
   },
   "outputs": [],
   "source": [
    "# function called when setting up\n",
    "def start(engine):\n",
    "    \n",
    "    # set a parameter to keep track of the player pixel\n",
    "    engine.X = 1\n",
    "    engine.Y = 2\n",
    "    \n",
    "    # then move on to the first frame\n",
    "    next_frame(engine)\n",
    "\n",
    "# this is the function that does everything\n",
    "def next_frame (engine):\n",
    "    \n",
    "    # set all pixels to green\n",
    "    for x in range(engine.L):\n",
    "        for y in range(engine.L):\n",
    "            engine.screen[x,y].set_color('green')\n",
    "            \n",
    "    # draw the player pixel\n",
    "    engine.screen[engine.X,engine.Y].set_color('red')\n",
    "    \n",
    "# run the game\n",
    "engine = JupyterWidgetEngine(start,next_frame,L=8)"
   ]
  },
  {
   "cell_type": "markdown",
   "metadata": {},
   "source": [
    "We'll move this around using the arrow buttons."
   ]
  },
  {
   "cell_type": "code",
   "execution_count": null,
   "metadata": {
    "scrolled": false
   },
   "outputs": [],
   "source": [
    "# this is the function that does everything\n",
    "def next_frame (engine):\n",
    "    \n",
    "    # change player position\n",
    "    if engine.controller['up'].value:\n",
    "        engine.Y -= 1\n",
    "    if engine.controller['down'].value:\n",
    "        engine.Y += 1\n",
    "    if engine.controller['right'].value:\n",
    "        engine.X += 1\n",
    "    if engine.controller['left'].value:\n",
    "        engine.X -= 1\n",
    "    \n",
    "    # set all pixels to green\n",
    "    for x in range(engine.L):\n",
    "        for y in range(engine.L):\n",
    "            engine.screen[x,y].set_color('green')\n",
    "            \n",
    "    # draw the player pixel\n",
    "    engine.screen[engine.X,engine.Y].set_color('red')\n",
    "    \n",
    "# run the game\n",
    "engine = JupyterWidgetEngine(start,next_frame,L=8)"
   ]
  },
  {
   "cell_type": "markdown",
   "metadata": {},
   "source": [
    "Walking off the edge of the screen results in an error. We can fix this."
   ]
  },
  {
   "cell_type": "code",
   "execution_count": null,
   "metadata": {
    "scrolled": false
   },
   "outputs": [],
   "source": [
    "# this is the function that does everything\n",
    "def next_frame (engine):\n",
    "    \n",
    "    # remove initial text\n",
    "    if engine.controller['A'].value:\n",
    "        engine.screen['text'].set_text('')\n",
    "    \n",
    "    # change player position\n",
    "    if engine.controller['up'].value:\n",
    "        engine.Y -= 1\n",
    "    if engine.controller['down'].value:\n",
    "        engine.Y += 1\n",
    "    if engine.controller['right'].value:\n",
    "        engine.X += 1\n",
    "    if engine.controller['left'].value:\n",
    "        engine.X -= 1\n",
    "    \n",
    "    # set all pixels to green\n",
    "    for x in range(engine.L):\n",
    "        for y in range(engine.L):\n",
    "            engine.screen[x,y].set_color('green')\n",
    "            \n",
    "    # draw the player pixel\n",
    "    Xs = engine.X%engine.L\n",
    "    Ys = engine.Y%engine.L\n",
    "    engine.screen[Xs,Ys].set_color('red')\n",
    "    \n",
    "# run the game\n",
    "engine = JupyterWidgetEngine(start,next_frame,L=8)"
   ]
  },
  {
   "cell_type": "markdown",
   "metadata": {},
   "source": [
    "Here the `engine.X` and `engine.Y` coordinates are still allowed to go beyond the screen, but the pixel is displayed such that it wraps back round. We can interpret this as the pixel moving on to another screen.\n",
    "\n",
    "Now let's move towards giving our pixel a more exciting world to explore. We'll use a function to decide what colour each point should be. We'll start by not changing very much."
   ]
  },
  {
   "cell_type": "code",
   "execution_count": null,
   "metadata": {},
   "outputs": [],
   "source": [
    "import numpy as np\n",
    "\n",
    "def get_color(X,Y):\n",
    "    return 'green'\n",
    "\n",
    "# this is the function that does everything\n",
    "def next_frame (engine):\n",
    "    \n",
    "    # remove initial text\n",
    "    if engine.controller['A'].value:\n",
    "        engine.screen['text'].set_text('')\n",
    "    \n",
    "    # change player position\n",
    "    if engine.controller['up'].value:\n",
    "        engine.Y -= 1\n",
    "    if engine.controller['down'].value:\n",
    "        engine.Y += 1\n",
    "    if engine.controller['right'].value:\n",
    "        engine.X += 1\n",
    "    if engine.controller['left'].value:\n",
    "        engine.X -= 1\n",
    "    \n",
    "    # set all pixels to green\n",
    "    for x in range(engine.L):\n",
    "        for y in range(engine.L):\n",
    "            # get the 'world' coordinates X,Y from the onscreen coordinates x,y\n",
    "            X = np.floor(engine.X/engine.L)*engine.L+x\n",
    "            Y = np.floor(engine.Y/engine.L)*engine.L+y\n",
    "            # set it to whatever colour it should be\n",
    "            engine.screen[x,y].set_color(get_color(X,Y))\n",
    "            \n",
    "    # draw the player pixel\n",
    "    Xs = engine.X%engine.L\n",
    "    Ys = engine.Y%engine.L\n",
    "    engine.screen[Xs,Ys].set_color('red')\n",
    "    \n",
    "# run the game\n",
    "engine = JupyterWidgetEngine(start,next_frame,L=8)"
   ]
  },
  {
   "cell_type": "markdown",
   "metadata": {},
   "source": [
    "Now let's change `get_color` to create a beach."
   ]
  },
  {
   "cell_type": "code",
   "execution_count": null,
   "metadata": {
    "scrolled": false
   },
   "outputs": [],
   "source": [
    "def get_color(X,Y):\n",
    "    if X<12:\n",
    "        color = 'green'\n",
    "    else:\n",
    "        color = 'orange'\n",
    "    return color\n",
    "    \n",
    "# run the game\n",
    "engine = JupyterWidgetEngine(start,next_frame,L=8)"
   ]
  },
  {
   "cell_type": "markdown",
   "metadata": {},
   "source": [
    "We'll now put a single qubit circuit inside this terrain generator, so that we can experiment with single qubit gates by making terrain. For that we'll need some Qiskit tools."
   ]
  },
  {
   "cell_type": "code",
   "execution_count": null,
   "metadata": {},
   "outputs": [],
   "source": [
    "from qiskit import QuantumCircuit\n",
    "from qiskit.quantum_info import Statevector"
   ]
  },
  {
   "cell_type": "markdown",
   "metadata": {},
   "source": [
    "First, let's see what a circuit looks like. Here's one with just a `ry` gate for a given angle of rotation."
   ]
  },
  {
   "cell_type": "code",
   "execution_count": null,
   "metadata": {},
   "outputs": [],
   "source": [
    "theta = np.pi/2\n",
    "\n",
    "qc = QuantumCircuit(1)\n",
    "qc.ry(theta,0)\n",
    "\n",
    "state = Statevector.from_instruction(qc)\n",
    "probs = state.probabilities_dict()\n",
    "\n",
    "print(probs)"
   ]
  },
  {
   "cell_type": "markdown",
   "metadata": {},
   "source": [
    "Let's use the probability of the output '1' as a height, and set the colour accordingly."
   ]
  },
  {
   "cell_type": "code",
   "execution_count": null,
   "metadata": {},
   "outputs": [],
   "source": [
    "def get_color(X,Y):\n",
    "    \n",
    "    # set an angle for ry based on the coordinate\n",
    "    thet = X*(np.pi/16)\n",
    "    \n",
    "    # create and simulate the circuit\n",
    "    qc = QuantumCircuit(1)\n",
    "    qc.ry(theta,0)\n",
    "    state = Statevector.from_instruction(qc)\n",
    "    probs = state.probabilities_dict()\n",
    "    \n",
    "    # get the prob of '1'\n",
    "    if '1' in probs:\n",
    "        height = probs['1']\n",
    "    else:\n",
    "        height = 0\n",
    "    \n",
    "    # set colour accordingly\n",
    "    if height<0.1: # sea/river\n",
    "        color = 'blue'\n",
    "    elif height<0.3: # beach\n",
    "        color = 'orange'\n",
    "    elif height<0.9: # grass\n",
    "        color = 'green'\n",
    "    else: # mountain\n",
    "        color = 'grey'\n",
    "        \n",
    "    return color\n",
    "    \n",
    "# run the game\n",
    "engine = JupyterWidgetEngine(start,next_frame,L=8)"
   ]
  },
  {
   "cell_type": "markdown",
   "metadata": {},
   "source": [
    "We can build on this to create more complex terrain."
   ]
  },
  {
   "cell_type": "code",
   "execution_count": null,
   "metadata": {},
   "outputs": [],
   "source": [
    "import random\n",
    "\n",
    "seed = [random.random() for _ in range(4)]\n",
    "\n",
    "def get_color(X,Y):\n",
    "    \n",
    "    qc = QuantumCircuit(1)\n",
    "\n",
    "    theta1 = (seed[0]*X+seed[1]*Y)*np.pi/16\n",
    "    theta2 = (seed[2]*X-seed[3]*Y)*np.pi/16\n",
    "    qc.ry(theta1,0)\n",
    "    qc.rx(theta2,0)\n",
    "\n",
    "    state = Statevector.from_instruction(qc)\n",
    "    probs = state.probabilities_dict()\n",
    "    \n",
    "    try:\n",
    "        height = probs['1']\n",
    "    except:\n",
    "        height = 0\n",
    "        \n",
    "    # set colour accordingly\n",
    "    if height<0.1: # sea/river\n",
    "        color = 'blue'\n",
    "    elif height<0.3: # beach\n",
    "        color = 'orange'\n",
    "    elif height<0.9: # grass\n",
    "        color = 'green'\n",
    "    else: # mountain\n",
    "        color = 'grey'\n",
    "        \n",
    "    return color\n",
    "\n",
    "# run the game\n",
    "engine = JupyterWidgetEngine(start,next_frame,L=8)"
   ]
  },
  {
   "cell_type": "markdown",
   "metadata": {},
   "source": [
    "Now experiment by making your own circuits to generate more interesting terrain. You might find [this](https://javafxpert.github.io/grok-bloch/) to be a handy tool to determine what different gates will do."
   ]
  }
 ],
 "metadata": {
  "kernelspec": {
   "display_name": "Python 3",
   "language": "python",
   "name": "python3"
  },
  "language_info": {
   "codemirror_mode": {
    "name": "ipython",
    "version": 3
   },
   "file_extension": ".py",
   "mimetype": "text/x-python",
   "name": "python",
   "nbconvert_exporter": "python",
   "pygments_lexer": "ipython3",
   "version": "3.8.5"
  }
 },
 "nbformat": 4,
 "nbformat_minor": 4
}
